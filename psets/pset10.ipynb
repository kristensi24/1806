{
 "cells": [
  {
   "cell_type": "markdown",
   "id": "0d30ffa1",
   "metadata": {},
   "source": [
    "# 18.06 Problem Set 10\n",
    "\n",
    "Due Friday, November 18 at 11am."
   ]
  },
  {
   "cell_type": "markdown",
   "id": "8381feb2",
   "metadata": {},
   "source": [
    "## Problem 1 (5+5+5+5 points)\n",
    "\n",
    "In class, we saw that $o = [1,1,\\ldots,1,1]$ is an eigenvector of $M^T$ with eigenvalue $\\lambda = 1$ for any Markov matrix $M$.\n",
    "\n",
    "**(a)** If $x_k$ is an eigenvector of $M$ ($M x_k = \\lambda_k x_k$) for any *other* eigenvalue $\\lambda_k \\ne 1$ of $M$, show that we must have $o^T x_k = 0$: it must be *orthogonal* to $o$.  (Hint: use $o^T = o^T M$.)\n",
    "\n",
    "**(b)** Check your result from (a) numerically for a random $5 \\times 5$ Markov matrix `M = rand(5,5); M = M ./ sum(M, dims=1)`, with eigenvalues `eigvals(M)` and eigenvectors `X = eigvecs(M)`.   (Do `using LinearAlgebra` to get `eigvecs` and `eigvals`.)\n",
    "\n",
    "(Note: if you have a long vector `v`, Julia only shows a few elements by default, but you can show all the elements with `@show v`.  You can also look at the absolute values of the elements with `abs.(v)`, which can be easier to read than complex numbers in checking that entries are small.)\n",
    "\n",
    "**(c)** If we expand an arbitrary $x$ in an eigenvector basis $x = c_1 x_1 + \\cdots + c_m x_m$, letting $x_m$ be a steady-state eigenvector ($\\lambda_m = 1$) and supposing all of the other eigenvalues are $\\ne 1$, show that $o^T x$ gives us a simple formula for $c_m = \\_\\_\\_\\_\\_\\_\\_\\_$.\n",
    "\n",
    "**(d)** Hence, if all other eigenvalues have magnitude $<1$, then $M^n x \\to \\_\\_\\_\\_\\_\\_\\_\\_$ (simple formula in $o,x,x_m$) as $n \\to \\infty$.   Check this formula against `M^100 * [1,2,3,4,5]` for your `M` from (b)."
   ]
  },
  {
   "cell_type": "code",
   "execution_count": 7,
   "id": "5cc62f43",
   "metadata": {},
   "outputs": [
    {
     "data": {
      "text/plain": [
       "5×5 Matrix{ComplexF64}:\n",
       " -0.342327+0.0im  -0.772025-0.0im         …   0.132865+0.0im  -0.354092+0.0im\n",
       " -0.572461+0.0im   0.354454-0.293541im       -0.498468+0.0im  -0.651606+0.0im\n",
       " -0.123831+0.0im   0.113972+0.315106im        0.234633+0.0im  -0.328091+0.0im\n",
       "  0.533483+0.0im   0.280216+0.00640418im     -0.513413+0.0im  -0.378575+0.0im\n",
       "  0.505137+0.0im  0.0233831-0.0279687im       0.644384+0.0im  -0.446168+0.0im"
      ]
     },
     "execution_count": 7,
     "metadata": {},
     "output_type": "execute_result"
    }
   ],
   "source": [
    "# initializing matrix\n",
    "using LinearAlgebra\n",
    "\n",
    "M = rand(5,5)\n",
    "M = M ./ sum(M, dims=1)\n",
    "e = eigvals(M)\n",
    "X = eigvecs(M)"
   ]
  },
  {
   "cell_type": "code",
   "execution_count": 8,
   "id": "0e38f384",
   "metadata": {},
   "outputs": [
    {
     "data": {
      "text/plain": [
       "1×5 Matrix{Float64}:\n",
       " 1.11022e-16  4.91891e-16  4.91891e-16  4.44089e-16  2.15853"
      ]
     },
     "metadata": {},
     "output_type": "display_data"
    }
   ],
   "source": [
    "# part b\n",
    "o = [1,1,1,1,1]\n",
    "display(abs.(transpose(o)*X))"
   ]
  },
  {
   "cell_type": "code",
   "execution_count": 9,
   "id": "2ae11c48",
   "metadata": {},
   "outputs": [
    {
     "data": {
      "text/plain": [
       "5-element Vector{ComplexF64}:\n",
       "  -0.3540921287064414 + 0.0im\n",
       "  -0.6516058239233747 + 0.0im\n",
       " -0.32809057124956004 + 0.0im\n",
       " -0.37857514608038195 + 0.0im\n",
       "  -0.4461681862757987 + 0.0im"
      ]
     },
     "metadata": {},
     "output_type": "display_data"
    },
    {
     "data": {
      "text/plain": [
       "5-element Vector{Float64}:\n",
       " 2.460645607454499\n",
       " 4.528118188580489\n",
       " 2.27995642247605\n",
       " 2.6307822026352494\n",
       " 3.100497578853729"
      ]
     },
     "metadata": {},
     "output_type": "display_data"
    },
    {
     "data": {
      "text/plain": [
       "5-element Vector{ComplexF64}:\n",
       " 2.4606456074544947 + 0.0im\n",
       "  4.528118188580484 + 0.0im\n",
       " 2.2799564224760465 + 0.0im\n",
       " 2.6307822026352476 + 0.0im\n",
       " 3.1004975788537243 + 0.0im"
      ]
     },
     "metadata": {},
     "output_type": "display_data"
    }
   ],
   "source": [
    "# part d\n",
    "display(X[:, 5])\n",
    "display(M^100 * [1,2,3,4,5])\n",
    "display((dot(o, [1,2,3,4,5]) / dot(o, (X[:,5]))) * X[:,5])"
   ]
  },
  {
   "cell_type": "markdown",
   "id": "34993f46",
   "metadata": {},
   "source": [
    "## Problem 2 (10+5 points)\n",
    "\n",
    "From Strang, section 6.2.  Consider $A = \\begin{pmatrix} 0.6 & 0.4 \\\\ 0.4 & 0.6 \\end{pmatrix}$ and $B = \\begin{pmatrix} 0.6 & 0.9 \\\\ 0.1 & 0.6 \\end{pmatrix}$.   For this problem you keep in mind the diagonalization of matrices like $A$ and $B$.\n",
    "\n",
    "**(a)** Which of $A^n$ or $B^n$ (or both, or neither) go $\\to \\begin{pmatrix}0 & 0 \\\\ 0 & 0 \\end{pmatrix}$ as $n \\to \\infty$?   Double-check your answer by looking at $A^{100}$ and $B^{100}$ in Julia — these are approaching matrices of rank \\_\\_\\_\\_\\_\\_\\_\\_ and \\_\\_\\_\\_\\_\\_\\_\\_, respectively.\n",
    "\n",
    "**(b)** For what values of the real scalar $\\mu$ is $\\sqrt{A - \\mu I}$ a real matrix?  Check your answer by trying `sqrt(A - μ*Ι)` for a few values of `μ` in Julia (do `using LinearAlgebra` to get `I`)."
   ]
  },
  {
   "cell_type": "code",
   "execution_count": 4,
   "id": "a840b779",
   "metadata": {},
   "outputs": [
    {
     "data": {
      "text/plain": [
       "2×2 Matrix{Float64}:\n",
       " 0.5  0.5\n",
       " 0.5  0.5"
      ]
     },
     "metadata": {},
     "output_type": "display_data"
    },
    {
     "data": {
      "text/plain": [
       "2×2 Matrix{Float64}:\n",
       " 1.32807e-5  3.98421e-5\n",
       " 4.4269e-6   1.32807e-5"
      ]
     },
     "metadata": {},
     "output_type": "display_data"
    }
   ],
   "source": [
    "# part a\n",
    "A = [0.6 0.4;0.4 0.6]\n",
    "B = [0.6 0.9;0.1 0.6]\n",
    "display(A^100)\n",
    "display(B^100)"
   ]
  },
  {
   "cell_type": "code",
   "execution_count": 10,
   "id": "2d399fe2",
   "metadata": {
    "scrolled": true
   },
   "outputs": [
    {
     "name": "stdout",
     "output_type": "stream",
     "text": [
      "sqrt(A - mu * I) = [0.4999999999999999 0.4; 0.4 0.4999999999999999]\n",
      "sqrt(A - mu * I) = [0.4472135954999578 0.4472135954999578; 0.4472135954999578 0.4472135954999578]\n",
      "sqrt(A - mu * I) = ComplexF64[0.44440972086577935 + 0.05000000000000002im 0.44440972086577935 - 0.05000000000000002im; 0.44440972086577935 - 0.05000000000000002im 0.44440972086577935 + 0.05000000000000002im]\n",
      "sqrt(A - mu * I) = ComplexF64[0.0 + 0.4472135954999578im 0.0 - 0.4472135954999578im; 0.0 - 0.4472135954999578im 0.0 + 0.4472135954999578im]\n"
     ]
    },
    {
     "data": {
      "text/plain": [
       "2×2 Matrix{ComplexF64}:\n",
       " 0.0+0.447214im  0.0-0.447214im\n",
       " 0.0-0.447214im  0.0+0.447214im"
      ]
     },
     "execution_count": 10,
     "metadata": {},
     "output_type": "execute_result"
    }
   ],
   "source": [
    "# part b\n",
    "using LinearAlgebra\n",
    "A = [0.6 0.4;0.4 0.6]\n",
    "\n",
    "mu = 0.19\n",
    "@show(sqrt(A - mu*I))\n",
    "mu = 0.2\n",
    "@show(sqrt(A - mu*I))\n",
    "mu = 0.21\n",
    "@show(sqrt(A - mu*I))\n",
    "mu = 1.0\n",
    "@show(sqrt(A - mu*I))"
   ]
  },
  {
   "cell_type": "code",
   "execution_count": null,
   "id": "d8518849",
   "metadata": {},
   "outputs": [],
   "source": []
  }
 ],
 "metadata": {
  "kernelspec": {
   "display_name": "Julia 1.8.1",
   "language": "julia",
   "name": "julia-1.8"
  },
  "language_info": {
   "file_extension": ".jl",
   "mimetype": "application/julia",
   "name": "julia",
   "version": "1.8.1"
  }
 },
 "nbformat": 4,
 "nbformat_minor": 5
}
